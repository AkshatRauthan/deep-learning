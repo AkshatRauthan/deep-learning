{
 "cells": [
  {
   "cell_type": "markdown",
   "id": "be7b6c64-b433-454e-b7eb-3292b4e75338",
   "metadata": {},
   "source": [
    "# Losses In Perceptron\n",
    "\n",
    "<b>In this section we will study the proper way of training a perceptron. <br>Along with that we will also study how to reduce the losses that occurs in that training precess.</b>"
   ]
  },
  {
   "cell_type": "markdown",
   "id": "54e678f1-ca06-4b2d-84ab-9dd9ca9a5f40",
   "metadata": {},
   "source": [
    "# Problems With Perceptron Trick\n",
    "\n",
    "1. <b>No Optimality In Result :</b> Most of the times the final division of regions that we got is not optimal.\n",
    "2. <b>No Quantification Of Result :</b> We can't compare which is the best results from the output of diffrent test runs.\n",
    "3. <b>Randomness In Result :</b> Multiple test runs of Perceptron trick will give us multiple diffrent outputs whose efficiency can't be   compared.\n",
    "4. <b> Non Convergernce :</b> If you are continuously selecting correctly classified points then the model will not converge towards an optimal result."
   ]
  },
  {
   "cell_type": "markdown",
   "id": "fda1f6a4-a42a-41cc-8986-17ec04a33af8",
   "metadata": {},
   "source": [
    "# Loss Functions\n",
    "\n",
    "* Loss functions are mathematical functions that are used to calculate the efficiency of our model by quantifying the magnitude of errors present currently in our model.\n",
    "* These functions take our weights and bias in input and return the amount of error present.\n",
    "* In every single epoch our main aim is to now find such values with which we can minimize the loss function's value.\n",
    "* With these loss functions we can also compare two diffrent results to find which one is better.\n",
    "\n",
    "Some examples of loss function for perceptron are :-\n",
    "* Number of Misclassified points.\n",
    "* Sum of absolute perpendicular distances between the line and all misclassified points."
   ]
  },
  {
   "cell_type": "markdown",
   "id": "e8b155ab-d91c-4432-9e7f-f0115c325e41",
   "metadata": {},
   "source": [
    "# Perceptron Loss Function\n",
    "\n",
    "The loss function implemented in Perceptron Is : \n",
    "\n",
    "$$\n",
    "L(w, b) = \\frac{1}{n} \\sum_{i=1}^{n} L(y_i, f(x_i))\n",
    "$$\n",
    "\n",
    "$$\n",
    "L(y_i, f(x_i)) = \\max(0, -y_i f(x_i))\n",
    "$$\n",
    "\n",
    "$$\n",
    "f(x_i) = \\sum_{i=1}^{m}{wᵢxᵢ} + b\n",
    "$$"
   ]
  }
 ],
 "metadata": {
  "kernelspec": {
   "display_name": "Python 3 (ipykernel)",
   "language": "python",
   "name": "python3"
  },
  "language_info": {
   "codemirror_mode": {
    "name": "ipython",
    "version": 3
   },
   "file_extension": ".py",
   "mimetype": "text/x-python",
   "name": "python",
   "nbconvert_exporter": "python",
   "pygments_lexer": "ipython3",
   "version": "3.10.16"
  }
 },
 "nbformat": 4,
 "nbformat_minor": 5
}
