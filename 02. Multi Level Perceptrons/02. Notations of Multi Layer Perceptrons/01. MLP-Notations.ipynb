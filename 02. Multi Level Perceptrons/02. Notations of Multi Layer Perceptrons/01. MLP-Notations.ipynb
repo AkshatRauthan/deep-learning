{
 "cells": [
  {
   "cell_type": "markdown",
   "id": "bba0b132-d88c-402c-a6f5-6d90d7b9bab6",
   "metadata": {},
   "source": [
    "# Multi Layer Perceptron : Notations"
   ]
  },
  {
   "cell_type": "markdown",
   "id": "4fd1d0c4-81a7-4ccb-a073-51eae7bf49be",
   "metadata": {},
   "source": [
    "- In this part we are going to see how to find all the trainable paramaters present in any neural network archiecture.<br>\n",
    "- Apart from this we will also learn the naming conventions used for all the diffrent weights, biases, layers and nodes present in out netwok.\n",
    "\n",
    "<br>\n",
    "\n",
    " ### Let us take the example of the given Neural network archiecture : "
   ]
  },
  {
   "cell_type": "markdown",
   "id": "3eeda8be-dcdd-4849-b200-f14907db5a36",
   "metadata": {},
   "source": [
    "<img src=\"./01. neural-network-example.png\">"
   ]
  },
  {
   "cell_type": "markdown",
   "id": "c1223c83-6924-438e-89e8-98f26957672a",
   "metadata": {},
   "source": [
    "- In the above example we have a data set having four input rows $ X_i $ and one output row $ \\hat{Y} $.\n",
    "\n",
    "  #### The whole neural network has 4 Layers:\n",
    "  ##### i) Input Layer (L0)\n",
    "  ##### ii) Hidden Layer #1 (L1)\n",
    "  ##### iii) Hidden Layer #2 (L2)\n",
    "  ##### iv) Output Layer (L3)\n",
    "  <br>"
   ]
  },
  {
   "cell_type": "markdown",
   "id": "1c788fbc-b76e-40b8-844d-ba8fd3a88167",
   "metadata": {},
   "source": [
    "### Trainable Parameters\n",
    "\n",
    "The trainable parameters is the number of all the weights and biases present between consecutive layers of neural newtorks.\n",
    "- Between (L0 and L1): we have 12 weights and 3 biases.\n",
    "- Betwenn (L1 and L2): we have 6 weights and 2 biases.\n",
    "- Between (L2 and L3): we have 2 weights and 1 bias.\n",
    "\n",
    "##### Therefore, we have total 26 trainable parameters.\n",
    "<br>"
   ]
  },
  {
   "cell_type": "markdown",
   "id": "f9fdb678-6efe-41c9-8c3f-cd9b6ead0df1",
   "metadata": {},
   "source": [
    "### Representation Of Paramerets\n",
    "#### i) Bias: &nbsp; $ b_{ij} $ ,&nbsp; where $ i $ is the layer number and $ j $ is the node number.\n",
    "#### ii) Outputs: &nbsp; $ o_{ij} $ ,&nbsp; where $ i $ is the layer number and $ j $ is the node number.\n",
    "#### iii) Weights: &nbsp; $ w^k_{ij} $ , where $ i $ is the node number from which it is coming, $ j $ is the node number to which it is going and  $ k $ is the layer number to &nbsp; &nbsp; &nbsp;  &nbsp; it is going.\n",
    "<br>\n",
    "\n",
    "### An Example Of The Given Notations Is Given Below :"
   ]
  },
  {
   "cell_type": "markdown",
   "id": "b7df98b4-0cbd-4950-8e76-559bc9cff53c",
   "metadata": {},
   "source": [
    "<img src=\"./01. notations-example.png\">"
   ]
  }
 ],
 "metadata": {
  "kernelspec": {
   "display_name": "Python (DL Env)",
   "language": "python",
   "name": "dl-env"
  },
  "language_info": {
   "codemirror_mode": {
    "name": "ipython",
    "version": 3
   },
   "file_extension": ".py",
   "mimetype": "text/x-python",
   "name": "python",
   "nbconvert_exporter": "python",
   "pygments_lexer": "ipython3",
   "version": "3.10.16"
  }
 },
 "nbformat": 4,
 "nbformat_minor": 5
}
