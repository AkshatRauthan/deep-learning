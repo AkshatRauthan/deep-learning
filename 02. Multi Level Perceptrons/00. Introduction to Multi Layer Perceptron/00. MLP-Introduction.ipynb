{
 "cells": [
  {
   "cell_type": "markdown",
   "id": "924cb5c3-4361-44b8-b5c6-d6cd26422e48",
   "metadata": {},
   "source": [
    "# Multi Layer Perceptrons"
   ]
  },
  {
   "cell_type": "markdown",
   "id": "15a12440-6ed0-4770-adda-6beec4b88346",
   "metadata": {
    "jp-MarkdownHeadingCollapsed": true
   },
   "source": [
    "##### Now the problem that we discussed with perceptrons is that it can only be used for linear data saperation.\n",
    "\n",
    "<img src=\"./00. problem-with-perceptron.png\" style=\"margin: 25px auto\">\n",
    "\n",
    "##### The data-set shown above can't be saperated directly using a single perceptron. Because the saperator is a curve instread of a straight line.\n",
    "##### Now, inorder to capture this non-linearity we will now see how can we tackle this type of situation by using multiple Perceptrons,\n",
    "<br>"
   ]
  },
  {
   "cell_type": "markdown",
   "id": "f36718bb-6d68-46e6-9632-3a49807599bb",
   "metadata": {},
   "source": [
    "# Abstract Idea\n",
    "\n",
    "- ##### i) Now, assume that for the above data-set we train two diffrent perceptrons.\n",
    "\n",
    "<img src=\"./01. both-perceptrons-output.png\" width=\"650px\"  style=\"margin: 10px auto\">\n",
    "<br>\n",
    "\n",
    "- ##### ii) After that, we just superimpose their descision boundary over one another to get combined output.\n",
    "\n",
    "<img src=\"./01. superimposed-perceptrons.png\" width=\"650px\"  style=\"margin: 10px auto\">\n",
    "<br>\n",
    "\n",
    "- ##### iii) Now after that, we smoothen their edges to get our final output class with non-linear saperators.\n",
    "\n",
    "<img src=\"./01. final-smoothened-output.png\" width=\"650px\"  style=\"margin: 10px auto\">\n",
    "<br>\n",
    "\n",
    "\n",
    "\n",
    "`The above example is a perfect example of how all the mathematics works behind the scenes to generate a single saperator using the output of multiple diffrent percecptrons to generate complex curves on non-linear data-sets.`\n",
    "\n",
    "<br>"
   ]
  },
  {
   "cell_type": "markdown",
   "id": "4d6e3479-4560-4c3e-a7c3-f03fa1a55585",
   "metadata": {},
   "source": [
    "# Mathematical Reasoning\n",
    "\n",
    "##### Now, mathematically we will be performing the following steps on each point present in the dataset : \n",
    "\n",
    "- ##### Finding the sum of P(Yes) for the given point on both the output perceptron classes.\n",
    "- ##### Passing it into the activation function (Sigmoid in this case) and plotting the point with the output of activation function (final probability).\n",
    "- ##### Now, on the basis of the probabilities of all the points we will simply generate the non-linear classifier.\n",
    "\n",
    "<img src=\"./01. mathematical-intution.png\" style=\"margin: 10px auto\">\n",
    "\n",
    "<br>"
   ]
  },
  {
   "cell_type": "markdown",
   "id": "9b952423-7a18-4f28-bcde-862e335bf9d1",
   "metadata": {},
   "source": [
    "# Adding Weights In Perceptron's Output\n",
    "- ##### Now assume that here we want the final output to be biased towards the result of any of the two perceptrons.\n",
    "- ##### In that case we will need to add weights in the output of both the perceptron before passing it into the final sigmoid function.\n",
    "- ##### After adding the respctive weights we can make the final result biased towards any perceptron's result according to our need.\n",
    "- ##### Apart from that we can even add a bias to the final sigmoid functions input that will be added to the sum of the probabilities of from all the perceptrons.\n",
    "\n",
    "`Now, we can clearly see that the sigmoid function along with weights and bias is actually working like a new Perceptron, whose input is the ouptut of both the perceptron present before it. And we got a final implementation with 2 layers of perceptrons.`\n",
    "\n",
    "<img src=\"./01. an-another-perceptron.png\" style=\"margin: 10px auto\">\n",
    "\n",
    "<br>\n",
    "\n",
    "##### Now the diagrams for the inivisual perceptrons will be as shown below : \n",
    "\n",
    "<img src=\"./01. diagrams-for-perceptrons.png\" style=\"margin: 10px auto\" width=\"850px\">\n",
    "\n",
    "<br>\n",
    "\n",
    "##### Now the neural network diagram for the final implemented Multi Layer Perceptron will be : \n",
    "\n",
    "<img src=\"./01. final-mlp-implementation.png\" style=\"margin: 10px auto\" width=\"850px\">\n",
    "\n",
    "<br>"
   ]
  },
  {
   "cell_type": "markdown",
   "id": "ceb5228a-a912-4e8d-8d57-92e167455389",
   "metadata": {},
   "source": [
    "# Changing Neural Network Architecture\n",
    "\n",
    "#### There Are four ways of chaning the neural network architecture to fit our needs : \n",
    "\n",
    "1. #### Increasing number of hidden layers:\n",
    "    - ##### Used when we have to classify data that is having very complex mathematical relation or is multi-dimentional in nature.\n",
    "   <img src=\"./01. multiple-hidden-layers.png\" width=\"650px\">\n",
    "\n",
    "3. #### Increasing number of nodes in hidden layers:\n",
    "    - ##### Used to efficiently extract complex features from the data without significantly increasing computation time.\n",
    "   <img src=\"./01. multiple-nodes-in-hidden-layer.png\" width=\"650px\">\n",
    "   \n",
    "5. #### Increasing number of nodes in input layer;\n",
    "    - ##### In order to get more specific and efficient classification and prediction on the data-set.\n",
    "   <img src=\"./01. adding-extra-inputs.png\" width=\"650px\">\n",
    "   \n",
    "6. #### Increasing number of nodes in output layer:\n",
    "    - ##### Used when we have to classify data into multiple categories.\n",
    "   <img src=\"./01. adding-extra-outputs.png\" width=\"650px\">"
   ]
  },
  {
   "cell_type": "markdown",
   "id": "db008bbb-4405-4a43-b03d-faa9ce25834f",
   "metadata": {},
   "source": [
    "# Some Examples Of MLP\n",
    "##### Some examples of very complex data-sets clasified using MLP's are as follows : \n",
    "\n",
    "    \n",
    "1. XOR Dataset\n",
    "\n",
    "<img src=\"./01. xor-data.png\" width=\"750px\" style=\"margin:'10px'\">\n",
    "<br>\n",
    "\n",
    "2. Concentric Circle Dataset\n",
    "\n",
    "<img src=\"./01. concentric-circles-data.png\" width=\"750px\"  style=\"margin:'10px'\">\n",
    "<br>\n",
    "\n",
    "3. Spiral Dataset\n",
    "\n",
    "<img src=\"./01. spiral-data.png\" width=\"750px\"  style=\"margin:'10px'\">\n",
    "\n"
   ]
  }
 ],
 "metadata": {
  "kernelspec": {
   "display_name": "Python 3 (ipykernel)",
   "language": "python",
   "name": "python3"
  },
  "language_info": {
   "codemirror_mode": {
    "name": "ipython",
    "version": 3
   },
   "file_extension": ".py",
   "mimetype": "text/x-python",
   "name": "python",
   "nbconvert_exporter": "python",
   "pygments_lexer": "ipython3",
   "version": "3.10.16"
  }
 },
 "nbformat": 4,
 "nbformat_minor": 5
}
